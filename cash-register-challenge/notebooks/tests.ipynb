{
 "cells": [
  {
   "cell_type": "code",
   "execution_count": 2,
   "metadata": {},
   "outputs": [],
   "source": [
    "import pandas as pd"
   ]
  },
  {
   "cell_type": "code",
   "execution_count": 8,
   "metadata": {},
   "outputs": [],
   "source": [
    "path = \"../app/data/products.csv\""
   ]
  },
  {
   "cell_type": "code",
   "execution_count": 10,
   "metadata": {},
   "outputs": [
    {
     "data": {
      "text/html": [
       "<div>\n",
       "<style scoped>\n",
       "    .dataframe tbody tr th:only-of-type {\n",
       "        vertical-align: middle;\n",
       "    }\n",
       "\n",
       "    .dataframe tbody tr th {\n",
       "        vertical-align: top;\n",
       "    }\n",
       "\n",
       "    .dataframe thead th {\n",
       "        text-align: right;\n",
       "    }\n",
       "</style>\n",
       "<table border=\"1\" class=\"dataframe\">\n",
       "  <thead>\n",
       "    <tr style=\"text-align: right;\">\n",
       "      <th></th>\n",
       "      <th>product_code</th>\n",
       "      <th>product_name</th>\n",
       "      <th>product_price</th>\n",
       "      <th>product_discount_price</th>\n",
       "      <th>product_discount_percentage</th>\n",
       "      <th>product_discount_free_quantity</th>\n",
       "      <th>product_discount_minimum</th>\n",
       "      <th>discount_active</th>\n",
       "    </tr>\n",
       "  </thead>\n",
       "  <tbody>\n",
       "    <tr>\n",
       "      <th>0</th>\n",
       "      <td>GR1</td>\n",
       "      <td>Green Tea</td>\n",
       "      <td>3.11</td>\n",
       "      <td>NaN</td>\n",
       "      <td>NaN</td>\n",
       "      <td>1.0</td>\n",
       "      <td>2.0</td>\n",
       "      <td>free_item_discount</td>\n",
       "    </tr>\n",
       "    <tr>\n",
       "      <th>1</th>\n",
       "      <td>SR1</td>\n",
       "      <td>Strawberries</td>\n",
       "      <td>5.00</td>\n",
       "      <td>4.5</td>\n",
       "      <td>NaN</td>\n",
       "      <td>NaN</td>\n",
       "      <td>NaN</td>\n",
       "      <td>price_discount</td>\n",
       "    </tr>\n",
       "    <tr>\n",
       "      <th>2</th>\n",
       "      <td>CF1</td>\n",
       "      <td>Coffee</td>\n",
       "      <td>11.23</td>\n",
       "      <td>NaN</td>\n",
       "      <td>0.67</td>\n",
       "      <td>NaN</td>\n",
       "      <td>NaN</td>\n",
       "      <td>percentage_discount</td>\n",
       "    </tr>\n",
       "    <tr>\n",
       "      <th>3</th>\n",
       "      <td>HF1</td>\n",
       "      <td>Water</td>\n",
       "      <td>1.00</td>\n",
       "      <td>NaN</td>\n",
       "      <td>NaN</td>\n",
       "      <td>NaN</td>\n",
       "      <td>NaN</td>\n",
       "      <td>none</td>\n",
       "    </tr>\n",
       "  </tbody>\n",
       "</table>\n",
       "</div>"
      ],
      "text/plain": [
       "  product_code  product_name  product_price  product_discount_price  \\\n",
       "0          GR1     Green Tea           3.11                     NaN   \n",
       "1          SR1  Strawberries           5.00                     4.5   \n",
       "2          CF1        Coffee          11.23                     NaN   \n",
       "3          HF1         Water           1.00                     NaN   \n",
       "\n",
       "   product_discount_percentage  product_discount_free_quantity  \\\n",
       "0                          NaN                             1.0   \n",
       "1                          NaN                             NaN   \n",
       "2                         0.67                             NaN   \n",
       "3                          NaN                             NaN   \n",
       "\n",
       "   product_discount_minimum      discount_active  \n",
       "0                       2.0   free_item_discount  \n",
       "1                       NaN       price_discount  \n",
       "2                       NaN  percentage_discount  \n",
       "3                       NaN                 none  "
      ]
     },
     "execution_count": 10,
     "metadata": {},
     "output_type": "execute_result"
    }
   ],
   "source": [
    "df = pd.read_csv(path)\n",
    "df.head()"
   ]
  },
  {
   "cell_type": "code",
   "execution_count": 11,
   "metadata": {},
   "outputs": [
    {
     "data": {
      "text/plain": [
       "{'GR1': {'product_name': 'Green Tea',\n",
       "  'product_price': 3.11,\n",
       "  'product_discount_price': nan,\n",
       "  'product_discount_percentage': nan,\n",
       "  'product_discount_free_quantity': 1.0,\n",
       "  'product_discount_minimum': 2.0,\n",
       "  'discount_active': 'free_item_discount'},\n",
       " 'SR1': {'product_name': 'Strawberries',\n",
       "  'product_price': 5.0,\n",
       "  'product_discount_price': 4.5,\n",
       "  'product_discount_percentage': nan,\n",
       "  'product_discount_free_quantity': nan,\n",
       "  'product_discount_minimum': nan,\n",
       "  'discount_active': 'price_discount'},\n",
       " 'CF1': {'product_name': 'Coffee',\n",
       "  'product_price': 11.23,\n",
       "  'product_discount_price': nan,\n",
       "  'product_discount_percentage': 0.67,\n",
       "  'product_discount_free_quantity': nan,\n",
       "  'product_discount_minimum': nan,\n",
       "  'discount_active': 'percentage_discount'},\n",
       " 'HF1': {'product_name': 'Water',\n",
       "  'product_price': 1.0,\n",
       "  'product_discount_price': nan,\n",
       "  'product_discount_percentage': nan,\n",
       "  'product_discount_free_quantity': nan,\n",
       "  'product_discount_minimum': nan,\n",
       "  'discount_active': 'none'}}"
      ]
     },
     "execution_count": 11,
     "metadata": {},
     "output_type": "execute_result"
    }
   ],
   "source": [
    "# Convert DataFrame to dictionary for easy lookup\n",
    "products = df.set_index(\"product_code\").to_dict(orient=\"index\")\n",
    "products"
   ]
  },
  {
   "cell_type": "code",
   "execution_count": 14,
   "metadata": {},
   "outputs": [
    {
     "data": {
      "text/plain": [
       "'Green Tea'"
      ]
     },
     "execution_count": 14,
     "metadata": {},
     "output_type": "execute_result"
    }
   ],
   "source": [
    "products[\"GR1\"][\"product_name\"]"
   ]
  },
  {
   "cell_type": "code",
   "execution_count": 15,
   "metadata": {},
   "outputs": [
    {
     "data": {
      "text/plain": [
       "'price_discount'"
      ]
     },
     "execution_count": 15,
     "metadata": {},
     "output_type": "execute_result"
    }
   ],
   "source": [
    "products[\"SR1\"][\"discount_active\"]"
   ]
  },
  {
   "cell_type": "code",
   "execution_count": 17,
   "metadata": {},
   "outputs": [
    {
     "data": {
      "text/plain": [
       "0.67"
      ]
     },
     "execution_count": 17,
     "metadata": {},
     "output_type": "execute_result"
    }
   ],
   "source": [
    "products[\"CF1\"][\"product_discount_percentage\"]"
   ]
  }
 ],
 "metadata": {
  "kernelspec": {
   "display_name": "lewagon",
   "language": "python",
   "name": "python3"
  },
  "language_info": {
   "codemirror_mode": {
    "name": "ipython",
    "version": 3
   },
   "file_extension": ".py",
   "mimetype": "text/x-python",
   "name": "python",
   "nbconvert_exporter": "python",
   "pygments_lexer": "ipython3",
   "version": "3.10.6"
  }
 },
 "nbformat": 4,
 "nbformat_minor": 2
}
